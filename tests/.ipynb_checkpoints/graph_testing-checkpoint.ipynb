{
 "cells": [
  {
   "cell_type": "code",
   "execution_count": 1,
   "metadata": {
    "collapsed": false
   },
   "outputs": [],
   "source": [
    "import os\n",
    "import sys\n",
    "import unittest\n",
    "import fileinput\n",
    "import networkx as nx\n",
    "\n",
    "sys.path.append(os.path.realpath(\"..\"))\n",
    "\n",
    "from src.datasets import Flight\n",
    "from src.searchers import GraphBackTracker"
   ]
  },
  {
   "cell_type": "code",
   "execution_count": 2,
   "metadata": {
    "collapsed": true
   },
   "outputs": [],
   "source": [
    "def load_data(filename=None):\n",
    "    flights = []\n",
    "\n",
    "    for i, line in enumerate(fileinput.input(filename)):\n",
    "        if i != 0:\n",
    "            flights.append(process_line(line))\n",
    "        else:\n",
    "            start = line.rstrip()\n",
    "\n",
    "    return start, flights\n",
    "\n",
    "\n",
    "def process_line(line):\n",
    "    lst = line.rstrip().split(' ')\n",
    "    return Flight(lst[0], lst[1], int(lst[2]), int(lst[3]))"
   ]
  },
  {
   "cell_type": "code",
   "execution_count": 3,
   "metadata": {
    "collapsed": true
   },
   "outputs": [],
   "source": [
    "class GraphBackTracker:\n",
    "    def __init__(self, start_city, flights):\n",
    "        self.start_city = start_city\n",
    "        self.to_visit = {flt.city_from for flt in flights}\n",
    "        self.last_day = len(self.to_visit) - 1\n",
    "        self.G = self._build_graph(flights)\n",
    "\n",
    "    def _build_graph(self, flights):\n",
    "        G = nx.MultiDiGraph()\n",
    "        for flt in flights:\n",
    "            if self._is_new_edge(flt):\n",
    "                G.add_edge(flt.city_from, flt.city_to, weight=flt.price, day=flt.day)\n",
    "        return G\n",
    "\n",
    "    def _is_new_edge(self, flight):\n",
    "        is_first_day_flight = flight.city_from == self.start_city and flight.day == 0\n",
    "        is_last_day_flight = flight.city_to == self.start_city and flight.day == self.last_day\n",
    "        is_midtrip_flight = flight.day != 0 and flight.day != self.last_day and self.start_city not in [\n",
    "            flight.city_from,\n",
    "            flight.city_to]\n",
    "        is_same_city = flight.city_from == flight.city_to\n",
    "\n",
    "        return (is_first_day_flight or is_last_day_flight or is_midtrip_flight) and not is_same_city\n",
    "\n",
    "    def search(self):\n",
    "        pass"
   ]
  },
  {
   "cell_type": "code",
   "execution_count": 64,
   "metadata": {
    "collapsed": false
   },
   "outputs": [
    {
     "name": "stdout",
     "output_type": "stream",
     "text": [
      "(400, [<Flight: PRG TXL 0 100>, <Flight: TXL BCN 1 100>, <Flight: BCN DEL 2 100>, <Flight: DEL PRG 3 100>])\n"
     ]
    }
   ],
   "source": [
    "def backtracking(G, start_city, tv):\n",
    "    to_visit = list(tv)\n",
    "    \n",
    "    path = []\n",
    "    cost = 0\n",
    "    current_day = 0\n",
    "    current_city = start_city\n",
    "    \n",
    "    i = 0\n",
    "    while to_visit:\n",
    "        possible_flights = [(city_from, city_to, data) for (city_from, city_to, data) in G.edges(current_city, data=True)\n",
    "                           if data['day'] == current_day and city_to in to_visit]\n",
    "        \n",
    "        if possible_flights:\n",
    "            best_flight = min(possible_flights, key=lambda (u, v, d): d['weight'])\n",
    "            \n",
    "            cost += best_flight[2]['weight']\n",
    "            current_city = best_flight[1]\n",
    "            current_day += 1\n",
    "            \n",
    "            to_visit.remove(current_city)\n",
    "            \n",
    "            path.append(Flight(best_flight[0], best_flight[1], best_flight[2]['day'], best_flight[2]['weight']))\n",
    "        else:\n",
    "            to_visit.append(current_city)\n",
    "            last_flight = path.pop(-1)\n",
    "            current_city = last_flight.city_from\n",
    "            current_day -= 1\n",
    "            cost -= last_flight.price\n",
    "            \n",
    "            for u,v,key,data in G.out_edges(last_flight.city_from,data=True,keys=True):\n",
    "                if u == last_flight.city_from and v == last_flight.city_to and data['day']== last_flight.day and data['weight']==last_flight.price:\n",
    "                    G.remove_edge(u,v,key=key)\n",
    "                    \n",
    "    return cost, path\n",
    "            \n",
    "            \n",
    "start_city, flights = load_data('../input/3_airports_input.csv')\n",
    "start_city, flights = load_data('../input/4_airports_backtrace.csv')\n",
    "solver = GraphBackTracker(start_city, flights)\n",
    "\n",
    "#print start_city\n",
    "#for f in flights:\n",
    "#    print f\n",
    "\n",
    "#for e in solver.G.edges(data=True):\n",
    "#    print e\n",
    "    \n",
    "#print solver.to_visit\n",
    "\n",
    "print backtracking(solver.G, solver.start_city, solver.to_visit)"
   ]
  },
  {
   "cell_type": "code",
   "execution_count": null,
   "metadata": {
    "collapsed": true
   },
   "outputs": [],
   "source": [
    "def search(self, dataset):\n",
    "\n",
    "    trip = []\n",
    "    #possible_flights = { day : [flight flight flight ... ] }\n",
    "    # je to vpodstate stack\n",
    "    possible_flights = {}\n",
    "\n",
    "    start_city = dataset.get_starting_city()\n",
    "    cities_to_visit = deepcopy(dataset.cities)\n",
    "    cities_to_visit.remove(start_city)\n",
    "\n",
    "    day = 0\n",
    "    cur_city = start_city\n",
    "\n",
    "    while(cities_to_visit):\n",
    "        if day not in possible_flights.keys():\n",
    "            possible_flights[day] = dataset.get_flights(cur_city,\n",
    "                                                        day,\n",
    "                                                        cities_to_visit=cities_to_visit,\n",
    "                                                        sort_by_price=True)\n",
    "        if not possible_flights[day]:\n",
    "            assert day != 0, \"day 0 and nowhere to go  \\\n",
    "                              - either a bug or no cycle in data\"\n",
    "            #backwards\n",
    "            del possible_flights[day]\n",
    "\n",
    "            last_flight = trip.pop(-1)\n",
    "            cities_to_visit.append(cur_city)\n",
    "            cur_city = last_flight.city_from\n",
    "            day -= 1\n",
    "            assert day >= 0, \"bug: returning before day 0\"\n",
    "\n",
    "        else:\n",
    "            #forward\n",
    "            flight_taken = possible_flights[day].pop(0)\n",
    "            trip.append(flight_taken)\n",
    "            cities_to_visit.remove(flight_taken.city_to)\n",
    "            cur_city = flight_taken.city_to\n",
    "            day += 1\n",
    "\n",
    "        # return to starting city:\n",
    "        if not cities_to_visit:\n",
    "            possibilities = dataset.get_flights(cur_city,\n",
    "                                                day,\n",
    "                                                cities_to_visit=[start_city],\n",
    "                                                sort_by_price=True)\n",
    "            if possibilities:\n",
    "                trip.append(possibilities[0])\n",
    "            else:\n",
    "                last_flight = trip.pop(-1)\n",
    "                cities_to_visit.append(cur_city)\n",
    "                cur_city = last_flight.city_from\n",
    "                day -= 1\n",
    "                assert day >= 0, \"bug: returning before day 0\"\n",
    "\n",
    "    return trip"
   ]
  },
  {
   "cell_type": "code",
   "execution_count": null,
   "metadata": {
    "collapsed": true
   },
   "outputs": [],
   "source": [
    "def nearest_neighbors(G, start):\n",
    "    to_visit = G.nodes()\n",
    "    \n",
    "    cost = 0\n",
    "    path = [start]\n",
    "    current_day = 0\n",
    "    current_city = start\n",
    "    \n",
    "    while to_visit:\n",
    "        current_flights = [(u, v, d) for (u, v, d) in G.edges(current_city, data=True)\n",
    "                           if d['day'] == current_day and v in to_visit]\n",
    "        best_flight = min(current_flights, key=lambda (u, v, d): d['weight'])\n",
    "        \n",
    "        cost += best_flight[2]['weight']\n",
    "        current_city = best_flight[1]\n",
    "        current_day += 1\n",
    "        \n",
    "        to_visit.remove(current_city)\n",
    "        path.append(current_city)\n",
    "        \n",
    "    return cost, path\n",
    "    \n",
    "cost, path = nearest_neighbors(G, start)\n",
    "print path\n",
    "print cost\n",
    "\n",
    "assert len(np.unique(path)) == len(G.nodes())"
   ]
  }
 ],
 "metadata": {
  "kernelspec": {
   "display_name": "Python 2",
   "language": "python",
   "name": "python2"
  },
  "language_info": {
   "codemirror_mode": {
    "name": "ipython",
    "version": 2
   },
   "file_extension": ".py",
   "mimetype": "text/x-python",
   "name": "python",
   "nbconvert_exporter": "python",
   "pygments_lexer": "ipython2",
   "version": "2.7.12"
  }
 },
 "nbformat": 4,
 "nbformat_minor": 0
}
